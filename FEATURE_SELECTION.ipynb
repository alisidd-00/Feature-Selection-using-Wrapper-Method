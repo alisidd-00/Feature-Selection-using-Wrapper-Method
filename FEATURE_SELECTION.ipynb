{
  "nbformat": 4,
  "nbformat_minor": 0,
  "metadata": {
    "colab": {
      "provenance": []
    },
    "kernelspec": {
      "name": "python3",
      "display_name": "Python 3"
    },
    "language_info": {
      "name": "python"
    }
  },
  "cells": [
    {
      "cell_type": "code",
      "execution_count": null,
      "metadata": {
        "id": "biU1NWu37T5F"
      },
      "outputs": [],
      "source": [
        "import pandas as pd\n",
        "import numpy as np"
      ]
    },
    {
      "cell_type": "code",
      "source": [
        "df= pd.read_csv('/content/Egypt_Houses_Price - Egypt_Houses_Price.csv',encoding='latin1')\n",
        "df.describe()"
      ],
      "metadata": {
        "colab": {
          "base_uri": "https://localhost:8080/",
          "height": 291
        },
        "id": "gH61nhtM7a_G",
        "outputId": "e5cebbec-0409-4d47-a686-ff38efc955ae"
      },
      "execution_count": null,
      "outputs": [
        {
          "output_type": "execute_result",
          "data": {
            "text/plain": [
              "             Type    Price Bedrooms Bathrooms   Area Furnished    Level  \\\n",
              "count       27361    27359    27158     27190  26890     27361    27361   \n",
              "unique         11     4182       12        12    786         3       14   \n",
              "top     Apartment  3000000        3         2    120        No  Unknown   \n",
              "freq         8506      311    11803      9186    663     16500    10439   \n",
              "\n",
              "       Compound       Payment_Option  Delivery_Date Delivery_Term  \\\n",
              "count     27361                27361          27361         27361   \n",
              "unique      560                    4             10             5   \n",
              "top     Unknown  Cash or Installment  Ready to move      Finished   \n",
              "freq      11068                10842          12142         14375   \n",
              "\n",
              "                          City  \n",
              "count                    27361  \n",
              "unique                     183  \n",
              "top     New Cairo - El Tagamoa  \n",
              "freq                      6789  "
            ],
            "text/html": [
              "\n",
              "  <div id=\"df-6c333392-8ba9-4f38-ab79-b86f8d1654a3\">\n",
              "    <div class=\"colab-df-container\">\n",
              "      <div>\n",
              "<style scoped>\n",
              "    .dataframe tbody tr th:only-of-type {\n",
              "        vertical-align: middle;\n",
              "    }\n",
              "\n",
              "    .dataframe tbody tr th {\n",
              "        vertical-align: top;\n",
              "    }\n",
              "\n",
              "    .dataframe thead th {\n",
              "        text-align: right;\n",
              "    }\n",
              "</style>\n",
              "<table border=\"1\" class=\"dataframe\">\n",
              "  <thead>\n",
              "    <tr style=\"text-align: right;\">\n",
              "      <th></th>\n",
              "      <th>Type</th>\n",
              "      <th>Price</th>\n",
              "      <th>Bedrooms</th>\n",
              "      <th>Bathrooms</th>\n",
              "      <th>Area</th>\n",
              "      <th>Furnished</th>\n",
              "      <th>Level</th>\n",
              "      <th>Compound</th>\n",
              "      <th>Payment_Option</th>\n",
              "      <th>Delivery_Date</th>\n",
              "      <th>Delivery_Term</th>\n",
              "      <th>City</th>\n",
              "    </tr>\n",
              "  </thead>\n",
              "  <tbody>\n",
              "    <tr>\n",
              "      <th>count</th>\n",
              "      <td>27361</td>\n",
              "      <td>27359</td>\n",
              "      <td>27158</td>\n",
              "      <td>27190</td>\n",
              "      <td>26890</td>\n",
              "      <td>27361</td>\n",
              "      <td>27361</td>\n",
              "      <td>27361</td>\n",
              "      <td>27361</td>\n",
              "      <td>27361</td>\n",
              "      <td>27361</td>\n",
              "      <td>27361</td>\n",
              "    </tr>\n",
              "    <tr>\n",
              "      <th>unique</th>\n",
              "      <td>11</td>\n",
              "      <td>4182</td>\n",
              "      <td>12</td>\n",
              "      <td>12</td>\n",
              "      <td>786</td>\n",
              "      <td>3</td>\n",
              "      <td>14</td>\n",
              "      <td>560</td>\n",
              "      <td>4</td>\n",
              "      <td>10</td>\n",
              "      <td>5</td>\n",
              "      <td>183</td>\n",
              "    </tr>\n",
              "    <tr>\n",
              "      <th>top</th>\n",
              "      <td>Apartment</td>\n",
              "      <td>3000000</td>\n",
              "      <td>3</td>\n",
              "      <td>2</td>\n",
              "      <td>120</td>\n",
              "      <td>No</td>\n",
              "      <td>Unknown</td>\n",
              "      <td>Unknown</td>\n",
              "      <td>Cash or Installment</td>\n",
              "      <td>Ready to move</td>\n",
              "      <td>Finished</td>\n",
              "      <td>New Cairo - El Tagamoa</td>\n",
              "    </tr>\n",
              "    <tr>\n",
              "      <th>freq</th>\n",
              "      <td>8506</td>\n",
              "      <td>311</td>\n",
              "      <td>11803</td>\n",
              "      <td>9186</td>\n",
              "      <td>663</td>\n",
              "      <td>16500</td>\n",
              "      <td>10439</td>\n",
              "      <td>11068</td>\n",
              "      <td>10842</td>\n",
              "      <td>12142</td>\n",
              "      <td>14375</td>\n",
              "      <td>6789</td>\n",
              "    </tr>\n",
              "  </tbody>\n",
              "</table>\n",
              "</div>\n",
              "      <button class=\"colab-df-convert\" onclick=\"convertToInteractive('df-6c333392-8ba9-4f38-ab79-b86f8d1654a3')\"\n",
              "              title=\"Convert this dataframe to an interactive table.\"\n",
              "              style=\"display:none;\">\n",
              "        \n",
              "  <svg xmlns=\"http://www.w3.org/2000/svg\" height=\"24px\"viewBox=\"0 0 24 24\"\n",
              "       width=\"24px\">\n",
              "    <path d=\"M0 0h24v24H0V0z\" fill=\"none\"/>\n",
              "    <path d=\"M18.56 5.44l.94 2.06.94-2.06 2.06-.94-2.06-.94-.94-2.06-.94 2.06-2.06.94zm-11 1L8.5 8.5l.94-2.06 2.06-.94-2.06-.94L8.5 2.5l-.94 2.06-2.06.94zm10 10l.94 2.06.94-2.06 2.06-.94-2.06-.94-.94-2.06-.94 2.06-2.06.94z\"/><path d=\"M17.41 7.96l-1.37-1.37c-.4-.4-.92-.59-1.43-.59-.52 0-1.04.2-1.43.59L10.3 9.45l-7.72 7.72c-.78.78-.78 2.05 0 2.83L4 21.41c.39.39.9.59 1.41.59.51 0 1.02-.2 1.41-.59l7.78-7.78 2.81-2.81c.8-.78.8-2.07 0-2.86zM5.41 20L4 18.59l7.72-7.72 1.47 1.35L5.41 20z\"/>\n",
              "  </svg>\n",
              "      </button>\n",
              "      \n",
              "  <style>\n",
              "    .colab-df-container {\n",
              "      display:flex;\n",
              "      flex-wrap:wrap;\n",
              "      gap: 12px;\n",
              "    }\n",
              "\n",
              "    .colab-df-convert {\n",
              "      background-color: #E8F0FE;\n",
              "      border: none;\n",
              "      border-radius: 50%;\n",
              "      cursor: pointer;\n",
              "      display: none;\n",
              "      fill: #1967D2;\n",
              "      height: 32px;\n",
              "      padding: 0 0 0 0;\n",
              "      width: 32px;\n",
              "    }\n",
              "\n",
              "    .colab-df-convert:hover {\n",
              "      background-color: #E2EBFA;\n",
              "      box-shadow: 0px 1px 2px rgba(60, 64, 67, 0.3), 0px 1px 3px 1px rgba(60, 64, 67, 0.15);\n",
              "      fill: #174EA6;\n",
              "    }\n",
              "\n",
              "    [theme=dark] .colab-df-convert {\n",
              "      background-color: #3B4455;\n",
              "      fill: #D2E3FC;\n",
              "    }\n",
              "\n",
              "    [theme=dark] .colab-df-convert:hover {\n",
              "      background-color: #434B5C;\n",
              "      box-shadow: 0px 1px 3px 1px rgba(0, 0, 0, 0.15);\n",
              "      filter: drop-shadow(0px 1px 2px rgba(0, 0, 0, 0.3));\n",
              "      fill: #FFFFFF;\n",
              "    }\n",
              "  </style>\n",
              "\n",
              "      <script>\n",
              "        const buttonEl =\n",
              "          document.querySelector('#df-6c333392-8ba9-4f38-ab79-b86f8d1654a3 button.colab-df-convert');\n",
              "        buttonEl.style.display =\n",
              "          google.colab.kernel.accessAllowed ? 'block' : 'none';\n",
              "\n",
              "        async function convertToInteractive(key) {\n",
              "          const element = document.querySelector('#df-6c333392-8ba9-4f38-ab79-b86f8d1654a3');\n",
              "          const dataTable =\n",
              "            await google.colab.kernel.invokeFunction('convertToInteractive',\n",
              "                                                     [key], {});\n",
              "          if (!dataTable) return;\n",
              "\n",
              "          const docLinkHtml = 'Like what you see? Visit the ' +\n",
              "            '<a target=\"_blank\" href=https://colab.research.google.com/notebooks/data_table.ipynb>data table notebook</a>'\n",
              "            + ' to learn more about interactive tables.';\n",
              "          element.innerHTML = '';\n",
              "          dataTable['output_type'] = 'display_data';\n",
              "          await google.colab.output.renderOutput(dataTable, element);\n",
              "          const docLink = document.createElement('div');\n",
              "          docLink.innerHTML = docLinkHtml;\n",
              "          element.appendChild(docLink);\n",
              "        }\n",
              "      </script>\n",
              "    </div>\n",
              "  </div>\n",
              "  "
            ]
          },
          "metadata": {},
          "execution_count": 8
        }
      ]
    },
    {
      "cell_type": "code",
      "source": [
        "df.info()"
      ],
      "metadata": {
        "colab": {
          "base_uri": "https://localhost:8080/"
        },
        "id": "zYh4u2_p7dWF",
        "outputId": "c94332bc-3d7d-4c0a-b800-339fea0bb5ec"
      },
      "execution_count": null,
      "outputs": [
        {
          "output_type": "stream",
          "name": "stdout",
          "text": [
            "<class 'pandas.core.frame.DataFrame'>\n",
            "RangeIndex: 27361 entries, 0 to 27360\n",
            "Data columns (total 12 columns):\n",
            " #   Column          Non-Null Count  Dtype \n",
            "---  ------          --------------  ----- \n",
            " 0   Type            27361 non-null  object\n",
            " 1   Price           27359 non-null  object\n",
            " 2   Bedrooms        27158 non-null  object\n",
            " 3   Bathrooms       27190 non-null  object\n",
            " 4   Area            26890 non-null  object\n",
            " 5   Furnished       27361 non-null  object\n",
            " 6   Level           27361 non-null  object\n",
            " 7   Compound        27361 non-null  object\n",
            " 8   Payment_Option  27361 non-null  object\n",
            " 9   Delivery_Date   27361 non-null  object\n",
            " 10  Delivery_Term   27361 non-null  object\n",
            " 11  City            27361 non-null  object\n",
            "dtypes: object(12)\n",
            "memory usage: 2.5+ MB\n"
          ]
        }
      ]
    },
    {
      "cell_type": "code",
      "source": [
        "df.isnull().sum()"
      ],
      "metadata": {
        "colab": {
          "base_uri": "https://localhost:8080/"
        },
        "id": "4tMn5Eik7nfF",
        "outputId": "ad469e9f-5f87-4dd9-c5e8-7c838ea66600"
      },
      "execution_count": null,
      "outputs": [
        {
          "output_type": "execute_result",
          "data": {
            "text/plain": [
              "Type                0\n",
              "Price               2\n",
              "Bedrooms          203\n",
              "Bathrooms         171\n",
              "Area              471\n",
              "Furnished           0\n",
              "Level               0\n",
              "Compound            0\n",
              "Payment_Option      0\n",
              "Delivery_Date       0\n",
              "Delivery_Term       0\n",
              "City                0\n",
              "dtype: int64"
            ]
          },
          "metadata": {},
          "execution_count": 10
        }
      ]
    },
    {
      "cell_type": "markdown",
      "source": [
        "**ORDINAL ENCODING DONE AS ALL DATASET WAS OBJECT TYPE**"
      ],
      "metadata": {
        "id": "dIBLVLYh9amm"
      }
    },
    {
      "cell_type": "code",
      "source": [
        "from sklearn.preprocessing import OrdinalEncoder\n",
        "\n",
        "# Assuming 'data' is your DataFrame\n",
        "data_encoded = df.copy()\n",
        "\n",
        "# Iterate over categorical columns and apply ordinal encoding\n",
        "for col in data_encoded.columns:\n",
        "    if data_encoded[col].dtype == 'object':\n",
        "        oe = OrdinalEncoder()\n",
        "        data_encoded[col] = oe.fit_transform(data_encoded[[col]])"
      ],
      "metadata": {
        "id": "1W4Ksrll76p1"
      },
      "execution_count": null,
      "outputs": []
    },
    {
      "cell_type": "code",
      "source": [
        "data_encoded.info()"
      ],
      "metadata": {
        "colab": {
          "base_uri": "https://localhost:8080/"
        },
        "id": "J4k8cVCD7_Wl",
        "outputId": "55dfa00d-f42e-423c-a2f8-a48e93de1aa6"
      },
      "execution_count": null,
      "outputs": [
        {
          "output_type": "stream",
          "name": "stdout",
          "text": [
            "<class 'pandas.core.frame.DataFrame'>\n",
            "RangeIndex: 27361 entries, 0 to 27360\n",
            "Data columns (total 12 columns):\n",
            " #   Column          Non-Null Count  Dtype  \n",
            "---  ------          --------------  -----  \n",
            " 0   Type            27361 non-null  float64\n",
            " 1   Price           27359 non-null  float64\n",
            " 2   Bedrooms        27158 non-null  float64\n",
            " 3   Bathrooms       27190 non-null  float64\n",
            " 4   Area            26890 non-null  float64\n",
            " 5   Furnished       27361 non-null  float64\n",
            " 6   Level           27361 non-null  float64\n",
            " 7   Compound        27361 non-null  float64\n",
            " 8   Payment_Option  27361 non-null  float64\n",
            " 9   Delivery_Date   27361 non-null  float64\n",
            " 10  Delivery_Term   27361 non-null  float64\n",
            " 11  City            27361 non-null  float64\n",
            "dtypes: float64(12)\n",
            "memory usage: 2.5 MB\n"
          ]
        }
      ]
    },
    {
      "cell_type": "code",
      "source": [
        "data_encoded.fillna(0,inplace=True)"
      ],
      "metadata": {
        "id": "ZBQfk82K8Cbu"
      },
      "execution_count": null,
      "outputs": []
    },
    {
      "cell_type": "code",
      "source": [
        "data_encoded.isnull().sum()"
      ],
      "metadata": {
        "colab": {
          "base_uri": "https://localhost:8080/"
        },
        "id": "mTrWLF7W8OWW",
        "outputId": "b5b102af-39ed-44af-9407-f04c0f5a9a9e"
      },
      "execution_count": null,
      "outputs": [
        {
          "output_type": "execute_result",
          "data": {
            "text/plain": [
              "Type              0\n",
              "Price             0\n",
              "Bedrooms          0\n",
              "Bathrooms         0\n",
              "Area              0\n",
              "Furnished         0\n",
              "Level             0\n",
              "Compound          0\n",
              "Payment_Option    0\n",
              "Delivery_Date     0\n",
              "Delivery_Term     0\n",
              "City              0\n",
              "dtype: int64"
            ]
          },
          "metadata": {},
          "execution_count": 14
        }
      ]
    },
    {
      "cell_type": "code",
      "source": [
        "data_encoded.shape"
      ],
      "metadata": {
        "colab": {
          "base_uri": "https://localhost:8080/"
        },
        "id": "fIQHcA-X8TL_",
        "outputId": "e8fb7827-6292-4f59-9e01-eda71a0a1f2d"
      },
      "execution_count": null,
      "outputs": [
        {
          "output_type": "execute_result",
          "data": {
            "text/plain": [
              "(27361, 12)"
            ]
          },
          "metadata": {},
          "execution_count": 15
        }
      ]
    },
    {
      "cell_type": "code",
      "source": [
        "X = data_encoded.drop([ 'Price'], axis=1)\n",
        "y = data_encoded['Price']"
      ],
      "metadata": {
        "id": "puErGdNe8WJN"
      },
      "execution_count": null,
      "outputs": []
    },
    {
      "cell_type": "markdown",
      "source": [
        "**WRAPPER METHOD (FORWARD ELIMINATION)**"
      ],
      "metadata": {
        "id": "OWUPWMU89vcG"
      }
    },
    {
      "cell_type": "code",
      "source": [
        "#importing the necessary libraries\n",
        "import joblib\n",
        "import sys\n",
        "sys.modules['sklearn.externals.joblib'] = joblib\n",
        "\n",
        "from mlxtend.feature_selection import SequentialFeatureSelector as SFS\n",
        "from sklearn.linear_model import LinearRegression\n",
        "# Sequential Forward Selection(sfs)\n",
        "sfs = SFS(LinearRegression(),\n",
        "          k_features=5,\n",
        "          forward=True,\n",
        "          floating=False,\n",
        "          scoring = 'r2',\n",
        "          cv = 0)"
      ],
      "metadata": {
        "id": "KMJp9sx38YWe"
      },
      "execution_count": null,
      "outputs": []
    },
    {
      "cell_type": "code",
      "source": [
        "sfs.fit(X, y)\n",
        "sfs.k_feature_names_"
      ],
      "metadata": {
        "colab": {
          "base_uri": "https://localhost:8080/"
        },
        "id": "WMfI3bV19Bgu",
        "outputId": "cf4d1910-1989-433e-9d42-45df2ee619f2"
      },
      "execution_count": null,
      "outputs": [
        {
          "output_type": "execute_result",
          "data": {
            "text/plain": [
              "('Type', 'Bathrooms', 'Area', 'Delivery_Date', 'Delivery_Term')"
            ]
          },
          "metadata": {},
          "execution_count": 18
        }
      ]
    },
    {
      "cell_type": "markdown",
      "source": [
        "**WRAPPER METHOD (BACKWARD ELIMINATION)**"
      ],
      "metadata": {
        "id": "4ahAcLTM9mWQ"
      }
    },
    {
      "cell_type": "code",
      "source": [
        "Xb = data_encoded.drop([ 'Price','Type','Bedrooms','Area','Furnished','Level','Compound','Payment_Option','Delivery_Date','Delivery_Term','City'], axis=1)\n",
        "yb = data_encoded['Price'] #Target Feature\n",
        "\n",
        "#Sequential backward selection(sbs)\n",
        "sbs = SFS(LinearRegression(),\n",
        "         k_features=1,\n",
        "         forward=False,\n",
        "         floating=False,\n",
        "         cv=0)\n",
        "sbs.fit(Xb, yb)\n",
        "sfs.k_feature_names_"
      ],
      "metadata": {
        "colab": {
          "base_uri": "https://localhost:8080/"
        },
        "id": "6N7Xbg7E9L-t",
        "outputId": "b2a08f8b-6de7-46c9-f94b-d043d0302e9d"
      },
      "execution_count": null,
      "outputs": [
        {
          "output_type": "execute_result",
          "data": {
            "text/plain": [
              "('Type', 'Bathrooms', 'Area', 'Delivery_Date', 'Delivery_Term')"
            ]
          },
          "metadata": {},
          "execution_count": 39
        }
      ]
    }
  ]
}